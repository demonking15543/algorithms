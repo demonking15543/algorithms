{
 "metadata": {
  "language_info": {
   "codemirror_mode": {
    "name": "ipython",
    "version": 3
   },
   "file_extension": ".py",
   "mimetype": "text/x-python",
   "name": "python",
   "nbconvert_exporter": "python",
   "pygments_lexer": "ipython3",
   "version": "3.6.9-final"
  },
  "orig_nbformat": 2,
  "kernelspec": {
   "name": "python36964bit3cc32569759d467ea12bb38bc9dd2ba8",
   "display_name": "Python 3.6.9 64-bit",
   "language": "python"
  }
 },
 "nbformat": 4,
 "nbformat_minor": 2,
 "cells": [
  {
   "cell_type": "code",
   "execution_count": 13,
   "metadata": {},
   "outputs": [
    {
     "output_type": "stream",
     "name": "stdout",
     "text": [
      "[1, 3, 4, 7, 9, 12, 34, 43, 65]\n4 min and max are 7 and 12\n"
     ]
    }
   ],
   "source": [
    "# Determin kth min and max in an array\n",
    "\n",
    "def kth_min_max(arr, n , k):\n",
    "    if(k < n):\n",
    "        arr.sort()\n",
    "        print(arr)\n",
    "  \n",
    "\n",
    "\n",
    "    return f\"{k} min and max are {arr[k-1]} and {arr[n-k]}\"\n",
    "arr = [4, 3, 1, 65, 43, 7, 9, 12, 34]\n",
    "print(kth_min_max(arr, len(arr), 4))       \n"
   ]
  },
  {
   "cell_type": "code",
   "execution_count": null,
   "metadata": {},
   "outputs": [],
   "source": []
  }
 ]
}