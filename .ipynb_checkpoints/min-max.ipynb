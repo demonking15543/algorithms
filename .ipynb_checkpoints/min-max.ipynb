{
 "metadata": {
  "language_info": {
   "codemirror_mode": {
    "name": "ipython",
    "version": 3
   },
   "file_extension": ".py",
   "mimetype": "text/x-python",
   "name": "python",
   "nbconvert_exporter": "python",
   "pygments_lexer": "ipython3",
   "version": "3.6.9-final"
  },
  "orig_nbformat": 2,
  "kernelspec": {
   "name": "python36964bit3cc32569759d467ea12bb38bc9dd2ba8",
   "display_name": "Python 3.6.9 64-bit",
   "language": "python"
  }
 },
 "nbformat": 4,
 "nbformat_minor": 2,
 "cells": [
  {
   "cell_type": "code",
   "execution_count": 127,
   "metadata": {},
   "outputs": [
    {
     "output_type": "stream",
     "name": "stdout",
     "text": [
      "0 and 9 are max and min values of given array respectively.\nCPU times: user 0 ns, sys: 2.94 ms, total: 2.94 ms\nWall time: 5.86 ms\n"
     ]
    }
   ],
   "source": [
    "%%time\n",
    "from random import shuffle\n",
    "\n",
    "# For finding min and max values within the array first , we have to sort out array\n",
    "def min_max(arr, min, max):\n",
    "    #using buubble sort\n",
    "    if(min < max and max > 0): # Check  min should be less then max and max always be heigher from 0\n",
    "        if(arr[min] > arr[min+1]): #check if arr[min] is greater than  arr[min+1], swap them\n",
    "            temp = arr[min]\n",
    "            arr[min] = arr[min+1]\n",
    "            arr[min+1] = temp\n",
    "        min_max(arr, min+1, max)  # call function recursively and increment in min indext\n",
    "        min_max(arr, min, max-1)# call function recursively and decrement in max indext\n",
    "    return f\"{arr[min]} and {arr[max]} are max and min values of given array respectively.\"\n",
    "arr = [f for f in range(10)]\n",
    "shuffle(arr)\n",
    "print(min_max(arr, 0, len(arr)-1))\n",
    "\n",
    "\n",
    "\n",
    "\n",
    "\n"
   ]
  },
  {
   "cell_type": "code",
   "execution_count": 130,
   "metadata": {},
   "outputs": [
    {
     "output_type": "stream",
     "name": "stdout",
     "text": [
      "0 and 9 are max and min values of given array respectively.\nCPU times: user 672 µs, sys: 0 ns, total: 672 µs\nWall time: 626 µs\n"
     ]
    }
   ],
   "source": [
    "%%time\n",
    "def bubbleSort(arr): \n",
    "    n = len(arr) \n",
    "  \n",
    "    # Traverse through all array elements \n",
    "    for i in range(n): \n",
    "  \n",
    "        # Last i elements are already in place \n",
    "        for j in range(0, n-i-1): \n",
    "  \n",
    "            # traverse the array from 0 to n-i-1 \n",
    "            # Swap if the element found is greater \n",
    "            # than the next element \n",
    "            if arr[j] > arr[j+1] : \n",
    "                arr[j], arr[j+1] = arr[j+1], arr[j] \n",
    "    return f\"{arr[0]} and {arr[n-1]} are max and min values of given array respectively.\"\n",
    "              \n",
    "  \n",
    "# Driver code to test above \n",
    "arr = [f for f in range(10)]\n",
    "shuffle(arr)\n",
    " \n",
    "  \n",
    "print(bubbleSort(arr)) \n",
    "\n",
    "\n",
    "\n",
    "\n"
   ]
  },
  {
   "cell_type": "code",
   "execution_count": null,
   "metadata": {},
   "outputs": [],
   "source": []
  }
 ]
}