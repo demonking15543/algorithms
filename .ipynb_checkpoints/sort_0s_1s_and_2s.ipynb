{
 "metadata": {
  "language_info": {
   "codemirror_mode": {
    "name": "ipython",
    "version": 3
   },
   "file_extension": ".py",
   "mimetype": "text/x-python",
   "name": "python",
   "nbconvert_exporter": "python",
   "pygments_lexer": "ipython3",
   "version": "3.6.9-final"
  },
  "orig_nbformat": 2,
  "kernelspec": {
   "name": "python36964bit3cc32569759d467ea12bb38bc9dd2ba8",
   "display_name": "Python 3.6.9 64-bit",
   "language": "python"
  }
 },
 "nbformat": 4,
 "nbformat_minor": 2,
 "cells": [
  {
   "cell_type": "code",
   "execution_count": null,
   "metadata": {},
   "outputs": [],
   "source": []
  },
  {
   "cell_type": "code",
   "execution_count": 14,
   "metadata": {},
   "outputs": [
    {
     "output_type": "stream",
     "name": "stdout",
     "text": [
      "Given array  [0, 2, 0, 1, 2, 0, 0, 1, 2, 2, 1, 0, 1, 1]\nSorted array [0, 0, 0, 0, 0, 1, 1, 1, 1, 1, 2, 2, 2, 2]\n"
     ]
    }
   ],
   "source": [
    "# sort this given array [0, 0 , 1, 2, 0, 0, 1, 2, 2, 1, 0, 1, 1] without using any algorithm\n",
    "\n",
    "\n",
    "\n",
    "def sort_0s_1s_and_2s(array):\n",
    "    # calculate length of given array\n",
    "    n = len(array)\n",
    "    # Initialize counters which store number of zeroes, ones and twos in the array, \n",
    "    count_0 = 0  \n",
    "    count_1 = 0\n",
    "    count_2 = 0\n",
    "    # Iterate number of elements in the array\n",
    "    for i in range(n): \n",
    "        # If there is any zero in the array, increment count_0      \n",
    "        if(array[i] == 0):\n",
    "            count_0 += 1\n",
    "        # If there is any one in the array, increment count_1\n",
    "        elif(array[i] == 1):\n",
    "            count_1 += 1\n",
    "        # If there is any Two in the array, increment count_2\n",
    "        elif(array[i] == 2):\n",
    "            count_2 += 1\n",
    "    i = 0   # Intialize index of array       \n",
    "    while(count_0 > 0): # Iterate this loop till count_0 becomes 0\n",
    "        array[i] = 0    # Stores zero in the array\n",
    "        i += 1          # Increment the  index\n",
    "        count_0 -= 1    # Decrement  total Number of zeroes store in this count_0\n",
    "\n",
    "    while(count_1 > 0): # Same process repeat with count_1 and count_2\n",
    "        array[i] = 1\n",
    "        i += 1\n",
    "        count_1 -= 1\n",
    "\n",
    "    while(count_2 > 0):\n",
    "        array[i] = 2\n",
    "        i += 1\n",
    "        count_2 -= 1\n",
    "     \n",
    " \n",
    "    return f'Sorted array {array}'  # Return  sorted array\n",
    "\n",
    "array = [0, 2, 0 , 1, 2, 0, 0, 1, 2, 2, 1, 0, 1, 1]\n",
    "print(\"Given array \", array)\n",
    "print(sort_0s_1s_and_2s(array))  \n",
    "\n",
    "            \n",
    "            \n",
    "\n",
    "\n"
   ]
  },
  {
   "cell_type": "code",
   "execution_count": null,
   "metadata": {},
   "outputs": [],
   "source": []
  }
 ]
}